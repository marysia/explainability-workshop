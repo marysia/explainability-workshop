{
 "cells": [
  {
   "cell_type": "code",
   "execution_count": 1,
   "id": "403afd0e",
   "metadata": {},
   "outputs": [
    {
     "data": {
      "text/html": [
       "<html>\n",
       "<link rel=\"stylesheet\" href=\"https://marysia.nl/assets/GDD/css/custom.css\">\n",
       "</html>"
      ],
      "text/plain": [
       "<IPython.core.display.HTML object>"
      ]
     },
     "execution_count": 1,
     "metadata": {},
     "output_type": "execute_result"
    }
   ],
   "source": [
    "# Optional: change Jupyter Notebook theme to GDD theme\n",
    "from IPython.core.display import HTML\n",
    "HTML(url='https://gdd.li/jupyter-theme')"
   ]
  },
  {
   "cell_type": "markdown",
   "id": "14b8260e",
   "metadata": {},
   "source": [
    "![footer_logo](https://marysia.nl/assets/GDD/css/logo.png)\n",
    "\n",
    "# Feature Importance Permutation\n",
    "\n",
    "In the previous notebook, we investigated the sensitivity of the model towards its features. In other words, what would happen if we kept all other features the same, but changed the value of one. In this notebook, we'll dive further into understanding what happens when a prediction is created, this time answering the question: _which variables contribute to this result the most?_\n",
    "\n",
    "We will consider the same model -- body mass prediction of a penguin, based on its bodily measurements and a few categorical features.\n",
    "\n",
    "### Outline\n",
    "1. [Built-in Random Forest Feature Importance](#ranfor)\n",
    "1. [Scikit-Learn Permutation Feature Importance](#scikit)\n",
    "1. [Permutation Feature Importance with Dalex](#dalex)\n",
    "1. [Exercise](#ex1)\n",
    "\n",
    "\n",
    "![](images/gentoo.jpg)\n",
    "\n",
    "<a id = 'ranfor'></a>\n",
    "\n",
    "# 1. Built-in Random Forest Feature Importance\n",
    "\n",
    "\n",
    "First, let's load in the data! We start out with a slightly simpler model than we've seen before -- one that only takes numeric features as its input. "
   ]
  },
  {
   "cell_type": "code",
   "execution_count": null,
   "id": "ea5e13b7",
   "metadata": {},
   "outputs": [],
   "source": [
    "import pandas as pd\n",
    "from sklearn.model_selection import train_test_split\n",
    "\n",
    "penguins = (\n",
    "    pd.read_csv('data/penguins.csv')\n",
    "    .dropna()\n",
    ")\n",
    "\n",
    "# Set features & target.\n",
    "feature_columns = ['flipper_length_mm', 'bill_length_mm', 'bill_depth_mm']\n",
    "target = 'body_mass_g'\n",
    "\n",
    "# Set X and y\n",
    "X = penguins.loc[:, feature_columns]\n",
    "y = penguins.loc[:, target]\n",
    "\n",
    "# Split the dataset. \n",
    "X_train, X_test, y_train, y_test = train_test_split(X, y, test_size = 0.3, random_state=42)"
   ]
  },
  {
   "cell_type": "markdown",
   "id": "6e62d2d3",
   "metadata": {},
   "source": [
    "We want to investigate the built-in scikit-learn feature importance functionality. This means we need to choose a model that has `.feature_importances_` as an attribute after it has been fitted - a Random Forest regressor."
   ]
  },
  {
   "cell_type": "code",
   "execution_count": null,
   "id": "b9b39d52",
   "metadata": {},
   "outputs": [],
   "source": [
    "from sklearn.ensemble import RandomForestRegressor\n",
    "\n",
    "model = RandomForestRegressor(random_state=42)\n",
    "model.fit(X_train, y_train)\n",
    "model.score(X_test, y_test)"
   ]
  },
  {
   "cell_type": "markdown",
   "id": "0e475e84",
   "metadata": {},
   "source": [
    "Not bad. Slightly worse than the models we've seen before, but that is to be expected, as the model has less features to learn from.\n",
    "\n",
    "A Random Forest model in scikit-learn has an attribute `feature_importances_` after it has been fitted, that we can check out. The postfix `_` indicates that this attribute is only accessible/set after the model has trained. Why? Well, it would be impossible to view what features the model deems most important before it has seen any data! "
   ]
  },
  {
   "cell_type": "code",
   "execution_count": null,
   "id": "969e6d92",
   "metadata": {},
   "outputs": [],
   "source": [
    "model.feature_importances_"
   ]
  },
  {
   "cell_type": "markdown",
   "id": "91bc30cb",
   "metadata": {},
   "source": [
    "Let's wrap these values in nice Pandas dataframe to plot them, so we can see what importance matches with what feature.\n"
   ]
  },
  {
   "cell_type": "code",
   "execution_count": null,
   "id": "dec01f28",
   "metadata": {},
   "outputs": [],
   "source": [
    "importance_df = pd.DataFrame(model.feature_importances_,   # the importances\n",
    "                            columns=['importance'],   # give the df something to sort by later\n",
    "                            index=X_train.columns.tolist()   # set the index to the feature names\n",
    "                            )\n",
    "importance_df"
   ]
  },
  {
   "cell_type": "code",
   "execution_count": null,
   "id": "2022897b",
   "metadata": {},
   "outputs": [],
   "source": [
    "importance_df.sort_values('importance').plot(kind='barh');"
   ]
  },
  {
   "cell_type": "markdown",
   "id": "cb5d485b",
   "metadata": {},
   "source": [
    "<a id = 'scikit'></a>\n",
    "\n",
    "# 2. Scikit-Learn Permutation Feature Importance\n",
    "\n",
    "The use of the `feature_importances_` attribute is limited to the Random Forest classifier and regressor. It is not a model agnostic method, but rather based on the _mean decrease in impurity within each tree_. Don't worry, we'll get to that later! \n",
    "\n",
    "Scikit-learn, however, also provides a model-agnostic way of assessing feature importance called _permutation feature importance_."
   ]
  },
  {
   "cell_type": "code",
   "execution_count": null,
   "id": "2cb74a80",
   "metadata": {},
   "outputs": [],
   "source": [
    "from sklearn.inspection import permutation_importance\n",
    "\n",
    "result = permutation_importance(model, \n",
    "                               X_test,\n",
    "                               y_test,\n",
    "                               n_repeats=10)\n",
    "result"
   ]
  },
  {
   "cell_type": "code",
   "execution_count": null,
   "id": "5cbe4e8a",
   "metadata": {},
   "outputs": [],
   "source": [
    "importances_df = pd.DataFrame(result.importances_mean, \n",
    "                             columns=['importance'],\n",
    "                             index=X_test.columns.tolist())\n",
    "importances_df"
   ]
  },
  {
   "cell_type": "code",
   "execution_count": null,
   "id": "1a25beec",
   "metadata": {},
   "outputs": [],
   "source": [
    "importances_df.sort_values('importance').plot(kind='barh');"
   ]
  },
  {
   "cell_type": "markdown",
   "id": "50c81e4d",
   "metadata": {},
   "source": [
    "We just tried to ways of assessing feature importance on a relatively simple model, one that only takes numerical features. What if we extend this model with some categorical features? "
   ]
  },
  {
   "cell_type": "code",
   "execution_count": null,
   "id": "0e8ae85f",
   "metadata": {},
   "outputs": [],
   "source": [
    "# Set features & target.\n",
    "feature_columns = ['flipper_length_mm', 'bill_length_mm', 'bill_depth_mm', 'sex', 'island', 'species']\n",
    "target = 'body_mass_g'\n",
    "\n",
    "# Set X and y\n",
    "X = penguins.loc[:, feature_columns]\n",
    "y = penguins.loc[:, target]\n",
    "\n",
    "# Split the dataset. \n",
    "X_train, X_test, y_train, y_test = train_test_split(X, y, test_size = 0.3, random_state=42)"
   ]
  },
  {
   "cell_type": "code",
   "execution_count": null,
   "id": "0518b32c",
   "metadata": {},
   "outputs": [],
   "source": [
    "from sklearn.ensemble import RandomForestRegressor \n",
    "from sklearn.compose import ColumnTransformer\n",
    "from sklearn.preprocessing import OneHotEncoder\n",
    "from sklearn.pipeline import Pipeline\n",
    "\n",
    "ct = ColumnTransformer([\n",
    "    ('onehot', OneHotEncoder(), ['sex', 'species', 'island']),\n",
    "], remainder='passthrough')\n",
    "\n",
    "pipeline_rf = Pipeline([\n",
    "    ('ct', ct),\n",
    "    ('model', RandomForestRegressor(random_state=42))\n",
    "])\n",
    "\n",
    "pipeline_rf.fit(X_train, y_train)\n",
    "pipeline_rf.score(X_test, y_test)"
   ]
  },
  {
   "cell_type": "markdown",
   "id": "6d91fa84",
   "metadata": {},
   "source": [
    "As expected, a better model! But let's see how we can grab those feature importances."
   ]
  },
  {
   "cell_type": "code",
   "execution_count": null,
   "id": "c6f5371e",
   "metadata": {},
   "outputs": [],
   "source": [
    "feature_importances = pipeline_rf['model'].feature_importances_\n",
    "feature_importances"
   ]
  },
  {
   "cell_type": "markdown",
   "id": "e841eb50",
   "metadata": {},
   "source": [
    "Alright, there we have our feature importances.. but wait, there are a few more than we expect. Let's check how many features we had originally, and how many importances we have now. \n"
   ]
  },
  {
   "cell_type": "code",
   "execution_count": null,
   "id": "3d157c66",
   "metadata": {},
   "outputs": [],
   "source": [
    "print(f'Number of features: {len(X_train.columns)}')\n",
    "print(f'Number of feature importances: {len(feature_importances)}')"
   ]
  },
  {
   "cell_type": "markdown",
   "id": "0ed9dbcb",
   "metadata": {
    "slideshow": {
     "slide_type": "slide"
    }
   },
   "source": [
    "It seems like we have a few more importances than features. Why is that? \n",
    "\n",
    "Well, because we are using the one hot encoder to one-hot encode all our categorical features, we end up with a separate column for each possible category for each categorical feature."
   ]
  },
  {
   "cell_type": "code",
   "execution_count": null,
   "id": "06296b4a",
   "metadata": {},
   "outputs": [],
   "source": [
    "feature_names = pipeline_rf['ct'].get_feature_names_out().tolist()\n",
    "feature_names"
   ]
  },
  {
   "cell_type": "code",
   "execution_count": null,
   "id": "74497cf1",
   "metadata": {},
   "outputs": [],
   "source": [
    "importance_df = pd.DataFrame(feature_importances, \n",
    "                             columns=['feature importances'], \n",
    "                             index=feature_names)\n",
    "importance_df"
   ]
  },
  {
   "cell_type": "code",
   "execution_count": null,
   "id": "d40be2a4",
   "metadata": {},
   "outputs": [],
   "source": [
    "importance_df.sort_values('feature importances').plot(kind='barh');"
   ]
  },
  {
   "cell_type": "markdown",
   "id": "caed96ce",
   "metadata": {},
   "source": [
    "We can also do this in a model-agnostic way with permuation feature importance."
   ]
  },
  {
   "cell_type": "code",
   "execution_count": null,
   "id": "f8956d8e",
   "metadata": {},
   "outputs": [],
   "source": [
    "from sklearn.inspection import permutation_importance\n",
    "\n",
    "result = permutation_importance(pipeline_rf, \n",
    "                               X_test,\n",
    "                               y_test,\n",
    "                               n_repeats=10)\n",
    "result"
   ]
  },
  {
   "cell_type": "code",
   "execution_count": null,
   "id": "a3c22136",
   "metadata": {},
   "outputs": [],
   "source": [
    "importance_df = pd.DataFrame(result.importances_mean, \n",
    "                             columns=['importance'],\n",
    "                             index=X_test.columns.tolist())\n",
    "importance_df"
   ]
  },
  {
   "cell_type": "code",
   "execution_count": null,
   "id": "f1dc416a",
   "metadata": {},
   "outputs": [],
   "source": [
    "importance_df.sort_values('importance').plot(kind='barh');"
   ]
  },
  {
   "cell_type": "markdown",
   "id": "f7ff536e",
   "metadata": {},
   "source": [
    "<a id = 'dalex'></a>\n",
    "\n",
    "# 3. Permutation Feature Importance with Dalex\n",
    "\n",
    "Permutation Feature Importance is a model-agnostic feature importance calculation method built-in in scikit-learn itself. However, we can also calculate permutation feature importance with the dalex package.\n",
    "\n",
    "This requires us to create an Explainer object first."
   ]
  },
  {
   "cell_type": "code",
   "execution_count": null,
   "id": "a921a862",
   "metadata": {},
   "outputs": [],
   "source": [
    "import dalex \n",
    "\n",
    "explainer_rf = dalex.Explainer(pipeline_rf, X_test, y_test)"
   ]
  },
  {
   "cell_type": "markdown",
   "id": "f3546c36",
   "metadata": {
    "hidePrompt": true
   },
   "source": [
    "Now we can use the explainer with `model_parts` to do permutation feature importance."
   ]
  },
  {
   "cell_type": "code",
   "execution_count": null,
   "id": "3168ec48",
   "metadata": {},
   "outputs": [],
   "source": [
    "(\n",
    "    explainer_rf\n",
    "    .model_parts()\n",
    "    .plot()\n",
    ")"
   ]
  },
  {
   "cell_type": "markdown",
   "id": "999c9116",
   "metadata": {},
   "source": [
    "\n",
    "<a id = 'ex1'></a>\n",
    "# 4. Exercise \n",
    "\n",
    "\n",
    "\n",
    "<div class=\"exercise\" markdown=\"1\">\n",
    "\n",
    "### Exercise 1\n",
    "#### Random Forest feature importances\n",
    "\n",
    "_Consider the Random Forest `.feature_importances_` attribute._\n",
    "* Can you think of a way to combine the various categories per feature (i.e. Sex=Male and Sex=Female) to one single importance measure? \n",
    "* Is the order of which features are considered most important the same if you compare the `.feature_importances_` result to the permutation feature importance from scikit-learn/dalex? (hint: consider flipper length vs. sex) \n",
    "\n",
    "</div>\n",
    "\n",
    "\n",
    "<div class=\"exercise\" markdown=\"1\">\n",
    "\n",
    "### Exercise 2\n",
    "#### Permutation Feature Importance\n",
    "\n",
    "Consider the scikit-learn permutation feature importance & dalex permutation feature importance.\n",
    "1. Is the order of which features are considered most important the same for both methods? \n",
    "1. Are the values for each of the respective features the same for both methods?  \n",
    "\n",
    "Permutation Feature Importance calculates the importance of an individual feature. It does this by scoring the performance of the model on the original data based on some metric (R2, RMSE, etc.) and comparing this to an altered version of the dataset. The altered version of the dataset is created by shuffling all the values in one column. The intuition here is that if the overall performance of the model decreases due to the feature values being shuffled, the feature must be important. Likewise, if the overall performance of the model remains constant while the feature values are shuffled, that feature must not be very important. \n",
    "\n",
    "\n",
    "1. Why do you imagine the values differ per feature between the scikit-learn built-in permutation feature importance and the implementation in dalex? \n",
    "1. Can you think of a way to calculate the uncertainty of each feature importance? \n",
    "1. Can you think of any reason why this method may not reflect the true importance? \n",
    "1. Here we show the feature importances based on the _test_ data. Can you make an argument for and against calculating this on the test data (compared to the train data)?\n",
    "1. An alternative is _drop feature importance_. Can you imagine what this method does? Why would we prefer permutation feature importance? \n",
    "\n",
    "\n",
    "**Bonus**: Implement your own version of permutation feature importance. \n",
    "**Bonus**: Extend it with a measure of uncertainty! \n",
    "\n",
    "</div>"
   ]
  },
  {
   "cell_type": "raw",
   "id": "f167600e",
   "metadata": {},
   "source": [
    "Your answers here.\n",
    "\n",
    "Exercise 1: \n",
    "1. \n",
    "2. \n",
    "\n",
    "Exercise 2: \n",
    "1. \n",
    "2.\n",
    "3. \n",
    "4. \n",
    "5."
   ]
  },
  {
   "cell_type": "code",
   "execution_count": null,
   "id": "7d9faa56",
   "metadata": {},
   "outputs": [],
   "source": [
    "# Your (bonus) code here!"
   ]
  },
  {
   "cell_type": "markdown",
   "id": "ce1ad962",
   "metadata": {},
   "source": [
    "-----"
   ]
  }
 ],
 "metadata": {
  "kernelspec": {
   "display_name": "Python 3 (ipykernel)",
   "language": "python",
   "name": "python3"
  },
  "language_info": {
   "codemirror_mode": {
    "name": "ipython",
    "version": 3
   },
   "file_extension": ".py",
   "mimetype": "text/x-python",
   "name": "python",
   "nbconvert_exporter": "python",
   "pygments_lexer": "ipython3",
   "version": "3.9.7"
  }
 },
 "nbformat": 4,
 "nbformat_minor": 5
}
