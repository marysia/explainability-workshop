{
 "cells": [
  {
   "cell_type": "markdown",
   "id": "greek-nightmare",
   "metadata": {},
   "source": [
    "# Hackathon: Credit Lending\n",
    "\n",
    "You work at a Bank in the credit risk department. Your stakeholders want to be able to determine the level of risk for all internal customers, so that if the customer applies for a new product (eg. loan, credit card, overdraft, mortgage) the correct decision can be made as to whether they should get the product or not.\n",
    "\n",
    "The problem with the curent set up is that each individual product has their own way of determining a customer's level of risk. This means that a customer may be rejected to extend their overdraft to €2.000 but accepted to have a loan of €2.000 at the same time. \n",
    "\n",
    "This is providing a bad customer journey which is why the bank wants to consolidate this view of risk so that consistent lending decisions can be made.\n",
    "\n",
    "Often customers who get rejected will complain about their decision so it is important that we can send advisers to them to talk through their situation and suggest a good option for their lending.\n",
    "\n",
    "**Note:** The regulators consider customers are \"unable to repay\" when they have missed 3 payments (on any product) in the last 2 years. \n",
    "\n",
    "<img src=\"images/credit.jpeg\" style=\"display: block;margin-left: auto;margin-right: auto;height: 200px\"/>\n"
   ]
  },
  {
   "cell_type": "markdown",
   "id": "turkish-scholarship",
   "metadata": {},
   "source": [
    "## About the data\n",
    "\n",
    "We have access to data on a large number of customers.\n",
    "\n",
    "The unable to repay flag is named `bad_flag` and is determined using the description above. The rest of the features in the dataset are described below:\n",
    "\n",
    "|Variable Name|\tDescription\t|Type|\n",
    "|:---|:---|:---|\n",
    "|rev_unsecured|\tTotal balance on loans (no real estate) as a percentage of the total loan taken \t|percentage|\n",
    "|age\t|Age of borrower in years\t|integer|\n",
    "|days_past_due_30\t|Number of times borrower has been 30-59 days past due in the last |2 years |integer|\n",
    "|debt_ratio\t|Monthly debt payments, alimony, living costs divided by monthy gross income|\tfloat (%)|\n",
    "|income |\tMonthly income\t|float|\n",
    "|num_credit\t|Number of Open loans (car loan, mortgage, credit cards etc.)\t|integer|\n",
    "|num_days_late\t|Number of times borrower has been 90 days or more past due.\t|integer|\n",
    "|num_realestate\t|Number of mortgage and real estate loans including home equity lines of credit\t|integer|\n",
    "|days_past_due_60\t|Number of times borrower has been 60-89 days past due in the last 2 years.|\tinteger|\n",
    "|num_deps|\tNumber of dependents in family excluding themselves (spouse, children etc.)\t|integer|\n",
    "|bad_flag\t|Missed 3 monthly payments or more in past two years |\tY/N|\n"
   ]
  },
  {
   "cell_type": "markdown",
   "id": "a9b914b8",
   "metadata": {},
   "source": [
    "## Creating the model"
   ]
  },
  {
   "cell_type": "markdown",
   "id": "da69a257",
   "metadata": {},
   "source": [
    "We start by loading the data, selecting the features and target and creating a train and test set."
   ]
  },
  {
   "cell_type": "code",
   "execution_count": 15,
   "id": "6740a03d",
   "metadata": {},
   "outputs": [],
   "source": [
    "import pandas as pd\n",
    "from sklearn.model_selection import train_test_split\n",
    "\n",
    "credit = pd.read_csv('data/credit.csv')\n",
    "\n",
    "features = ['num_realestate', 'debt_ratio', 'income', 'num_credit', 'num_deps']\n",
    "X = credit.loc[:, features]\n",
    "y = credit.loc[:, 'bad_flag']\n",
    "\n",
    "X_train, X_test, y_train, y_test = train_test_split(X, y, stratify=y, random_state=111)"
   ]
  },
  {
   "cell_type": "markdown",
   "id": "761bbf4d",
   "metadata": {},
   "source": [
    "Because there are some missing values in two of the columns, we'll impute those using SimpleImpter within ColumnTransFomer."
   ]
  },
  {
   "cell_type": "code",
   "execution_count": 16,
   "id": "4b4e791a",
   "metadata": {},
   "outputs": [],
   "source": [
    "from sklearn.impute import SimpleImputer\n",
    "from sklearn.compose import ColumnTransformer\n",
    "from sklearn.tree import DecisionTreeClassifier\n",
    "from sklearn.pipeline import Pipeline\n",
    "\n",
    "column_imputer = ColumnTransformer(\n",
    "    [\n",
    "        ('imp_inc', SimpleImputer(strategy='mean'), ['income']),\n",
    "        ('imp_deps', SimpleImputer(strategy='most_frequent'), ['num_deps'])\n",
    "    ]\n",
    "    , remainder='passthrough'\n",
    ")"
   ]
  },
  {
   "cell_type": "markdown",
   "id": "34c5d8ac",
   "metadata": {},
   "source": [
    "Now we can create a pipeline with both the preprocessing steps and the model we want (in this case a decision tree), and see how our model performs."
   ]
  },
  {
   "cell_type": "code",
   "execution_count": 19,
   "id": "3b97f0df",
   "metadata": {},
   "outputs": [
    {
     "data": {
      "text/plain": [
       "0.9331733333333333"
      ]
     },
     "execution_count": 19,
     "metadata": {},
     "output_type": "execute_result"
    }
   ],
   "source": [
    "model_dt = DecisionTreeClassifier(max_depth=4, random_state=111)\n",
    "\n",
    "pipeline_dt = Pipeline(steps = [\n",
    "    ('imputer', column_imputer),\n",
    "    ('model', model_dt)\n",
    "])\n",
    "\n",
    "pipeline_dt.fit(X_train, y_train)\n",
    "\n",
    "pipeline_dt.score(X_test, y_test)"
   ]
  },
  {
   "cell_type": "markdown",
   "id": "6f3d8231",
   "metadata": {},
   "source": [
    "# <mark>Assignment</mark>"
   ]
  },
  {
   "cell_type": "raw",
   "id": "019183b6",
   "metadata": {},
   "source": [
    "Try all explainability techniques discussed in this workshop on your model/a data point:\n",
    "    a. Ceteris Paribus\n",
    "    b. Prediction Ceteris ParibusBreak-Down\n",
    "    c. Permutation Feature Importance\n",
    "    d. Partial Dependence Plots\n",
    "\n",
    "Then answer the following questions:\n",
    "1. Plot the decision tree we created (Hint: you can access the model in the pipeline using `pipeline_dt['model']`)\n",
    "2. "
   ]
  },
  {
   "cell_type": "code",
   "execution_count": null,
   "id": "binary-characteristic",
   "metadata": {},
   "outputs": [],
   "source": []
  },
  {
   "cell_type": "markdown",
   "id": "controlling-alfred",
   "metadata": {},
   "source": [
    "<img src='images/gdd-logo.png' align=right width=300px>\n",
    "\n"
   ]
  }
 ],
 "metadata": {
  "kernelspec": {
   "display_name": "Python 3 (ipykernel)",
   "language": "python",
   "name": "python3"
  },
  "language_info": {
   "codemirror_mode": {
    "name": "ipython",
    "version": 3
   },
   "file_extension": ".py",
   "mimetype": "text/x-python",
   "name": "python",
   "nbconvert_exporter": "python",
   "pygments_lexer": "ipython3",
   "version": "3.9.7"
  }
 },
 "nbformat": 4,
 "nbformat_minor": 5
}
