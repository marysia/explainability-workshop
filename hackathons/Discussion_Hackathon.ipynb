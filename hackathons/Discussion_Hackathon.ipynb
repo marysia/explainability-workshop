{
 "cells": [
  {
   "cell_type": "markdown",
   "metadata": {},
   "source": [
    "# Hackathon: Discussion\n",
    "\n",
    "If you're feeling less like coding and more like discussing the theory of explainability then this hackathon is for you! Try to answer the questions below by discussing with your group.\n",
    "\n",
    "<img src=\"https://imgs.xkcd.com/comics/machine_learning_2x.png\" width=\"300\">\n"
   ]
  },
  {
   "cell_type": "markdown",
   "metadata": {},
   "source": [
    "1. What are advantages of using explainability techniques on models?\n",
    "\n",
    "2. What are advantages of being able to explain for a single data point why a certain prediction was made?\n",
    "\n",
    "3. Now take a look at the descriptions of the datasets of the other 3 hackathons (medical diagnoses, laptop prices, credit lending) . Are there other advantages that come up now, or advantages specific for each dataset?\n",
    "\n",
    "4. Which techniques would work best for each dataset from the other hackathons?\n",
    "\n",
    "5. How could you use explainability in you job?\n",
    "\n",
    "6. Which techniques could we also use on Neural Networks?\n",
    "\n",
    "7. Search for other packages that focus on explainability. What are their advantages/disadvantages compared to dalex?\n",
    "\n",
    "8. All examples so far have been on tabular (rows and columns) data. How could you make models on images and text more explainable?\n",
    "\n",
    "9. Research what Shepley values are explain what they are when presenting the results of your discussion.\n",
    "\n",
    "10. When features are not independent these explainability techniques will run into problems. Why is this, and is there a way around this?"
   ]
  },
  {
   "cell_type": "raw",
   "metadata": {},
   "source": [
    "1.\n",
    "2.\n",
    "3.\n",
    "4.\n",
    "5.\n",
    "6.\n",
    "7.\n",
    "8.\n",
    "9.\n",
    "10."
   ]
  }
 ],
 "metadata": {
  "kernelspec": {
   "display_name": "Python 3 (ipykernel)",
   "language": "python",
   "name": "python3"
  },
  "language_info": {
   "codemirror_mode": {
    "name": "ipython",
    "version": 3
   },
   "file_extension": ".py",
   "mimetype": "text/x-python",
   "name": "python",
   "nbconvert_exporter": "python",
   "pygments_lexer": "ipython3",
   "version": "3.9.7"
  }
 },
 "nbformat": 4,
 "nbformat_minor": 4
}
