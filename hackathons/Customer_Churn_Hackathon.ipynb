{
 "cells": [
  {
   "cell_type": "markdown",
   "metadata": {},
   "source": [
    "## Hackathon time!\n",
    "\n",
    "Use the provided dataset (or your own) to make an actual use case.\n",
    "\n",
    "You can focus on one of the aspects below, or do a little bit of everything:\n",
    "\n",
    "<img src= images/banking.jpeg>"
   ]
  },
  {
   "cell_type": "code",
   "execution_count": null,
   "metadata": {},
   "outputs": [],
   "source": [
    "import numpy as np\n",
    "import pandas as pd\n",
    "import matplotlib.pyplot as plt"
   ]
  },
  {
   "cell_type": "code",
   "execution_count": null,
   "metadata": {},
   "outputs": [],
   "source": [
    "bank = pd.read_csv('data/banking.csv')\n",
    "\n",
    "bank.head()"
   ]
  },
  {
   "cell_type": "markdown",
   "metadata": {},
   "source": [
    "### 1. Use Case Definition\n",
    "\n",
    "- What is the use case? \n",
    "    - how could this bring the business value or be informative to your work?\n",
    "    - what type of machine learning would be relevant here?\n",
    "\n",
    "- Evaluate data quality\n",
    "    - quantity - how much data do you have?\n",
    "    - variability - how much variance is there in the data? is the data too similar or too random?\n",
    "    - completeness - are there missing values?\n",
    "    - dimensionality - how many dimensions are you interested in?\n",
    "\n",
    "- How will you measure imapct?\n",
    "- What can go wrong?\n",
    "    - are there flaws with the data?\n",
    "    - bias?"
   ]
  },
  {
   "cell_type": "raw",
   "metadata": {},
   "source": [
    "Answers here:\n"
   ]
  },
  {
   "cell_type": "markdown",
   "metadata": {},
   "source": [
    "\n",
    "---\n",
    "\n",
    "### 2. Analytics\n",
    "\n",
    "Use ***Pandas*** and plotting pacakges (e.g. ***Matplotlib*** and ***Seaborn***) to gain insights from the data.\n",
    "\n",
    "Now is a great opportunity to practice performing data science and the skills we've learnt on your own datasets.\n",
    "\n",
    "So that you can read your data into Pandas, check what file type the data is, check where the data is located, then check the [documentation](https://pandas.pydata.org/pandas-docs/stable/reference/api/pandas.read_excel.html).\n",
    "\n",
    "Some standard questions you could answer with Pandas are\n",
    "\n",
    "1. How much data is there in the dataset? "
   ]
  },
  {
   "cell_type": "code",
   "execution_count": null,
   "metadata": {},
   "outputs": [],
   "source": []
  },
  {
   "cell_type": "markdown",
   "metadata": {},
   "source": [
    "2. How many features does the data have?"
   ]
  },
  {
   "cell_type": "code",
   "execution_count": null,
   "metadata": {},
   "outputs": [],
   "source": []
  },
  {
   "cell_type": "markdown",
   "metadata": {},
   "source": [
    "3. What datatypes does it contain? "
   ]
  },
  {
   "cell_type": "code",
   "execution_count": null,
   "metadata": {},
   "outputs": [],
   "source": []
  },
  {
   "cell_type": "markdown",
   "metadata": {},
   "source": [
    "4. Are there any missing values?"
   ]
  },
  {
   "cell_type": "code",
   "execution_count": null,
   "metadata": {},
   "outputs": [],
   "source": []
  },
  {
   "cell_type": "markdown",
   "metadata": {},
   "source": [
    "5. Produce some summary statistics for the different features"
   ]
  },
  {
   "cell_type": "code",
   "execution_count": null,
   "metadata": {},
   "outputs": [],
   "source": []
  },
  {
   "cell_type": "markdown",
   "metadata": {},
   "source": [
    "But we can do much more...\n",
    "\n",
    "In this notebook we are working with banking data to predict customer churn, i.e. whether a customer stays or leaves. Accordingly, these are some example questions we could use Pandas to answer:\n",
    "\n",
    "- Does customer churn differ for different types of customers?\n",
    "- Illustrate these differences using plotting (e.g. bar plots)\n",
    "- Are there outliers or missing values in the data?\n",
    "- What type of preprocessing would you perform?\n",
    "\n",
    "Or even more specific:\n",
    "- What is the oldest person's estimated salary?\n",
    "- How many people from Spain have cards?\n",
    "- Which fraction of people have zero balance?\n",
    "- What are the top 3 most popular surnames?\n",
    "- ... think of more similar questions \n",
    "\n",
    "So as to extract more information and insights from your data, try to think of your own questions that you could use Pandas and the plotting packages to answer."
   ]
  },
  {
   "cell_type": "code",
   "execution_count": null,
   "metadata": {},
   "outputs": [],
   "source": []
  },
  {
   "cell_type": "markdown",
   "metadata": {},
   "source": [
    "---\n",
    "\n",
    "### 3. Machine Learning\n",
    "\n",
    "Based on your data, define a problem that can be solved using machine learning.\n",
    "\n",
    "Then train an ***sklearn*** ML model that addresses this problem, and keep the following in mind:\n",
    "\n",
    "\n",
    "- Which features should / shouldn't be used in production?\n",
    "- Try multiple ML models with various parameters and select the best one\n",
    "- What are the best metrics to evaluate your model(s)?\n",
    "- What are the most influential features in your ML model?\n",
    "\n",
    "\n",
    "### Improvise!\n",
    "\n",
    "Try to be creative and impress others with your use case -- don't just follow the bullet points above"
   ]
  },
  {
   "cell_type": "code",
   "execution_count": null,
   "metadata": {},
   "outputs": [],
   "source": []
  }
 ],
 "metadata": {
  "kernelspec": {
   "display_name": "Python 3 (ipykernel)",
   "language": "python",
   "name": "python3"
  },
  "language_info": {
   "codemirror_mode": {
    "name": "ipython",
    "version": 3
   },
   "file_extension": ".py",
   "mimetype": "text/x-python",
   "name": "python",
   "nbconvert_exporter": "python",
   "pygments_lexer": "ipython3",
   "version": "3.9.7"
  }
 },
 "nbformat": 4,
 "nbformat_minor": 4
}
